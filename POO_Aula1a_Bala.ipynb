{
  "cells": [
    {
      "cell_type": "markdown",
      "metadata": {
        "id": "view-in-github",
        "colab_type": "text"
      },
      "source": [
        "<a href=\"https://colab.research.google.com/github/szalontai/conversao-temperatura/blob/aulas/POO_Aula1a_Bala.ipynb\" target=\"_parent\"><img src=\"https://colab.research.google.com/assets/colab-badge.svg\" alt=\"Open In Colab\"/></a>"
      ]
    },
    {
      "cell_type": "markdown",
      "metadata": {
        "id": "6Pb-hJW2yNrv"
      },
      "source": [
        "# Programação Orientada a Objetos - Prof. Tatiana Escovedo\n",
        "\n",
        "---\n",
        "\n",
        "## Aula 01: Introdução a Python e Orientação a Objetos\n",
        "\n",
        "### Prática 1: Introdução à Linguagem Python"
      ]
    },
    {
      "cell_type": "markdown",
      "metadata": {
        "id": "jr3OyKENz22_"
      },
      "source": [
        "## Básico de Python"
      ]
    },
    {
      "cell_type": "markdown",
      "metadata": {
        "id": "HPGhHXNF1wHL"
      },
      "source": [
        "## Primeiro Programa"
      ]
    },
    {
      "cell_type": "code",
      "execution_count": 2,
      "metadata": {
        "id": "Hak_MlsisPH6",
        "colab": {
          "base_uri": "https://localhost:8080/"
        },
        "outputId": "decf38ca-2019-46f0-f028-08823753112b"
      },
      "outputs": [
        {
          "output_type": "stream",
          "name": "stdout",
          "text": [
            "Hello, World in Pyton\n"
          ]
        }
      ],
      "source": [
        "# Isto é um comentário de apenas uma linha\n",
        "print(\"Hello, World in Pyton\")"
      ]
    },
    {
      "cell_type": "markdown",
      "metadata": {
        "id": "VPJhZYydih_M"
      },
      "source": [
        "### Zen do Python"
      ]
    },
    {
      "cell_type": "code",
      "execution_count": 3,
      "metadata": {
        "id": "FAungPg7ivwd",
        "colab": {
          "base_uri": "https://localhost:8080/"
        },
        "outputId": "43350bc8-d71d-4649-8130-811e81eafecf"
      },
      "outputs": [
        {
          "output_type": "stream",
          "name": "stdout",
          "text": [
            "The Zen of Python, by Tim Peters\n",
            "\n",
            "Beautiful is better than ugly.\n",
            "Explicit is better than implicit.\n",
            "Simple is better than complex.\n",
            "Complex is better than complicated.\n",
            "Flat is better than nested.\n",
            "Sparse is better than dense.\n",
            "Readability counts.\n",
            "Special cases aren't special enough to break the rules.\n",
            "Although practicality beats purity.\n",
            "Errors should never pass silently.\n",
            "Unless explicitly silenced.\n",
            "In the face of ambiguity, refuse the temptation to guess.\n",
            "There should be one-- and preferably only one --obvious way to do it.\n",
            "Although that way may not be obvious at first unless you're Dutch.\n",
            "Now is better than never.\n",
            "Although never is often better than *right* now.\n",
            "If the implementation is hard to explain, it's a bad idea.\n",
            "If the implementation is easy to explain, it may be a good idea.\n",
            "Namespaces are one honking great idea -- let's do more of those!\n"
          ]
        }
      ],
      "source": [
        "import this"
      ]
    },
    {
      "cell_type": "markdown",
      "metadata": {
        "id": "ZFQcPUw-1yBK"
      },
      "source": [
        "## Variáveis"
      ]
    },
    {
      "cell_type": "code",
      "execution_count": 9,
      "metadata": {
        "id": "LsTCAdS-0VTN",
        "colab": {
          "base_uri": "https://localhost:8080/"
        },
        "outputId": "b22fb6c9-bd64-42a4-816b-b24d3bf11f1c"
      },
      "outputs": [
        {
          "output_type": "stream",
          "name": "stdout",
          "text": [
            "7.584\n",
            "<class 'float'>\n",
            "2.34\n",
            "<class 'float'>\n"
          ]
        }
      ],
      "source": [
        "# Variáveis: Definição e tipos\n",
        "\n",
        "# Declarando 4 variáveis e atribuindo valores a elas\n",
        "uma_string = \"Aluno\"\n",
        "um_inteiro = 7\n",
        "um_float = 7.584\n",
        "um_booleano = True\n",
        "\n",
        "um_float\n",
        "\n",
        "# Imprimindo o valor e o tipo de uma das variáveis\n",
        "print(um_float)\n",
        "print(type(um_float))\n",
        "\n",
        "um_float = 2.34\n",
        "\n",
        "print(um_float)\n",
        "print(type(um_float))\n"
      ]
    },
    {
      "cell_type": "code",
      "execution_count": 12,
      "metadata": {
        "id": "pJrSlM8M0d4P",
        "colab": {
          "base_uri": "https://localhost:8080/"
        },
        "outputId": "70101f76-e6bf-4b93-9243-9ca12a91cae8"
      },
      "outputs": [
        {
          "output_type": "stream",
          "name": "stdout",
          "text": [
            "2\n",
            "Valor do um_float é 2.34\n"
          ]
        }
      ],
      "source": [
        "# Casting: Convertendo a variável do tipo float para int e para string\n",
        "print(int(um_float))\n",
        "print(\"Valor do um_float é \"+str(um_float))"
      ]
    },
    {
      "cell_type": "code",
      "execution_count": 13,
      "metadata": {
        "id": "VgoVTn6I0jnr",
        "colab": {
          "base_uri": "https://localhost:8080/"
        },
        "outputId": "9162f343-f32f-421d-f160-63ce1c59ca9b"
      },
      "outputs": [
        {
          "output_type": "stream",
          "name": "stdout",
          "text": [
            "Resultado da soma = 12\n",
            "Resultado da subtração = -5\n",
            "Resultado da multiplicação = -15\n",
            "Resultado da divisão = -3.75\n",
            "Resultado da potenciação = 16\n",
            "Resultado do resto da divisão = 1\n"
          ]
        }
      ],
      "source": [
        "# Operações Aritméticas\n",
        "\n",
        "# Soma, Subtração, Multiplicação e Divisão\n",
        "resultado_1 = 7 + 5\n",
        "resultado_2 = um_inteiro - resultado_1\n",
        "resultado_3 = resultado_2 * 3\n",
        "resultado_4 = resultado_3 / 4\n",
        "\n",
        "# Imprimindo os resultados concatenando uma string com o resultado numérico\n",
        "print(\"Resultado da soma = \" + str(resultado_1))\n",
        "print(\"Resultado da subtração = \" + str(resultado_2))\n",
        "print(\"Resultado da multiplicação = \" + str(resultado_3))\n",
        "print(\"Resultado da divisão = \" + str(resultado_4))\n",
        "\n",
        "# Potenciação e Resto da Divisão\n",
        "resultado_5 = 2 ** 4\n",
        "resultado_6 = 13 % 4\n",
        "\n",
        "# Imprimindo os resultados concatenando uma string com o resultado numérico\n",
        "print(\"Resultado da potenciação = \" + str(resultado_5))\n",
        "print(\"Resultado do resto da divisão = \" + str(resultado_6))"
      ]
    },
    {
      "cell_type": "code",
      "execution_count": 14,
      "metadata": {
        "id": "KXm84FqH082m",
        "colab": {
          "base_uri": "https://localhost:8080/"
        },
        "outputId": "551412a5-50d1-4506-f876-87e0c51003ad"
      },
      "outputs": [
        {
          "output_type": "stream",
          "name": "stdout",
          "text": [
            "Resultado: 4\n",
            "Resultado: 9\n"
          ]
        }
      ],
      "source": [
        "# Incremento e Decremento\n",
        "\n",
        "# Decrementando 2 unidades\n",
        "um_inteiro -= 3\n",
        "print(\"Resultado: \" + str(um_inteiro)) # 7 - 3 = 4 --> agora um_inteiro é 4\n",
        "\n",
        "# Incrementando 5 unidades\n",
        "um_inteiro += 5\n",
        "print(\"Resultado: \" + str(um_inteiro)) # 4 - 5 = 9 --> agora um_inteiro é 9"
      ]
    },
    {
      "cell_type": "code",
      "execution_count": 18,
      "metadata": {
        "id": "JiS7vrGU1Cpr",
        "colab": {
          "base_uri": "https://localhost:8080/"
        },
        "outputId": "0e53d4a0-e35f-4794-f93e-5b793d254078"
      },
      "outputs": [
        {
          "output_type": "stream",
          "name": "stdout",
          "text": [
            "True\n",
            "False\n",
            "Um é igual a dois? False\n",
            "Um é igual a dois? dentro do print False\n",
            "Um é diferente de dois? True\n",
            "Um é maior do que dois? False\n",
            "Um é menor do que dois? True\n"
          ]
        }
      ],
      "source": [
        "# Operadores de Igualdade\n",
        "\n",
        "variavel_um = 1\n",
        "variavel_dois = 2\n",
        "variavel_tres = 3\n",
        "\n",
        "print(1 == variavel_um)\n",
        "print(2 == variavel_um)\n",
        "\n",
        "equal = (variavel_um == variavel_dois) # os () são opcionais neste caso, mas ajudam a legibilidade\n",
        "not_equal = (variavel_um != variavel_dois)\n",
        "\n",
        "print(\"Um é igual a dois? \" + str(equal))\n",
        "print(\"Um é igual a dois? dentro do print \" + str( (variavel_um == variavel_dois)))\n",
        "\n",
        "print(\"Um é diferente de dois? \" + str(not_equal))\n",
        "\n",
        "# Operadores de Comparação\n",
        "\n",
        "print(\"Um é maior do que dois? \" + str(variavel_um > variavel_dois))\n",
        "print(\"Um é menor do que dois? \" + str(variavel_um < variavel_dois))"
      ]
    },
    {
      "cell_type": "code",
      "source": [
        "# Operadores Lógicos and (e) e or (ou)\n",
        "\n",
        "print((2 > 1) and (3 < 5)) # V V\n",
        "print((2 > 1) and (1 > 3)) # V F\n",
        "\n",
        "print((3 < 5) or (2 > 1)) # V V\n",
        "print((0 > 1) or (0 == -1)) # F F\n",
        "print((0 < 1) or (0 == -1)) # V F"
      ],
      "metadata": {
        "id": "p93HoMcrfPTV",
        "colab": {
          "base_uri": "https://localhost:8080/"
        },
        "outputId": "126c6ebf-9693-4a8f-8c41-9fd8e70dbd45"
      },
      "execution_count": 17,
      "outputs": [
        {
          "output_type": "stream",
          "name": "stdout",
          "text": [
            "True\n",
            "False\n",
            "True\n",
            "False\n",
            "True\n"
          ]
        }
      ]
    },
    {
      "cell_type": "markdown",
      "metadata": {
        "id": "BTEQ7Jkg1oHS"
      },
      "source": [
        "## Strings"
      ]
    },
    {
      "cell_type": "code",
      "execution_count": 37,
      "metadata": {
        "id": "3r2MgilR1is2",
        "colab": {
          "base_uri": "https://localhost:8080/"
        },
        "outputId": "022ca373-b90c-4190-9d3a-2a350e4629cc"
      },
      "outputs": [
        {
          "output_type": "stream",
          "name": "stdout",
          "text": [
            "Programação - -  OO - \n"
          ]
        }
      ],
      "source": [
        "# Concatenação\n",
        "\n",
        "programacao = \"Programação\" # pode ser tanto delimitada por aspas duplas...\n",
        "oo = 'OO - ' #... quanto por aspas simples, mas sempre combinando\n",
        "programacao_oo = programacao + \" - -  \" + oo\n",
        "print(programacao_oo)"
      ]
    },
    {
      "cell_type": "code",
      "execution_count": 38,
      "metadata": {
        "id": "cbM5SOHW2h3n",
        "colab": {
          "base_uri": "https://localhost:8080/"
        },
        "outputId": "b7220fd7-cfe2-496b-fbbe-0050e65f41ab"
      },
      "outputs": [
        {
          "output_type": "stream",
          "name": "stdout",
          "text": [
            "22\n"
          ]
        }
      ],
      "source": [
        "# Tamanho\n",
        "\n",
        "print(len(programacao_oo))"
      ]
    },
    {
      "cell_type": "code",
      "execution_count": 41,
      "metadata": {
        "id": "dU--FJa32EK8",
        "colab": {
          "base_uri": "https://localhost:8080/"
        },
        "outputId": "3fb55784-c6d3-4342-adbb-3dd87c92f1ce"
      },
      "outputs": [
        {
          "output_type": "stream",
          "name": "stdout",
          "text": [
            "h\n",
            "!\n",
            "!\n",
            "o\n",
            "Pyth\n",
            "uito divertido!\n",
            "n é m\n",
            "Python é muito divertido!\n"
          ]
        }
      ],
      "source": [
        "# Indexação e Substrings\n",
        "\n",
        "frase = \"Python é muito divertido!\"\n",
        "\n",
        "# A indexação começa com 0\n",
        "print(frase[3])\n",
        "print(frase[len(frase)-1])\n",
        "\n",
        "\n",
        "# use -1 para pegar a última letra\n",
        "print(frase[-1])\n",
        "\n",
        "# -2 pega a penúltima letra\n",
        "print(frase[-2])\n",
        "\n",
        "# string[start:end] - end não é incluso\n",
        "print(frase[:4])\n",
        "print(frase[10:])\n",
        "print(frase[5:10])\n",
        "print(frase[:])"
      ]
    },
    {
      "cell_type": "code",
      "execution_count": 42,
      "metadata": {
        "id": "dIQsp6sR2Dvq",
        "colab": {
          "base_uri": "https://localhost:8080/"
        },
        "outputId": "df5bf480-b789-4772-d3c4-f6c5d00cfe32"
      },
      "outputs": [
        {
          "output_type": "stream",
          "name": "stdout",
          "text": [
            "oláoláoláoláoláoláolá\n"
          ]
        }
      ],
      "source": [
        "# Multiplicação de uma string por um número\n",
        "\n",
        "ola = \"olá\"\n",
        "sete_olas = ola * 7\n",
        "print(sete_olas)"
      ]
    },
    {
      "cell_type": "code",
      "execution_count": 43,
      "metadata": {
        "id": "lqYdd5lw2gdg",
        "colab": {
          "base_uri": "https://localhost:8080/"
        },
        "outputId": "8eed89df-59c7-4ebd-e494-39bce6156d77"
      },
      "outputs": [
        {
          "output_type": "stream",
          "name": "stdout",
          "text": [
            "True\n",
            "False\n",
            "False\n"
          ]
        }
      ],
      "source": [
        "# Operador in\n",
        "\n",
        "programacao_python = \"Programação em Python\"\n",
        "\n",
        "# checa se a string contém \"Python\"\n",
        "print(\"Python\" in programacao_python)\n",
        "\n",
        "# checa se a string contém \"python\"\n",
        "print(\"python\" in programacao_python)\n",
        "\n",
        "# checa se a string contém \"abacate\"\n",
        "print(\"abacate\" in programacao_python)"
      ]
    },
    {
      "cell_type": "code",
      "execution_count": 44,
      "metadata": {
        "id": "FmHXDp3I2iEQ",
        "colab": {
          "base_uri": "https://localhost:8080/"
        },
        "outputId": "eac8e6c8-a53b-46ee-c49b-ec652889eba9"
      },
      "outputs": [
        {
          "output_type": "stream",
          "name": "stdout",
          "text": [
            "Estou estudando\n",
            "Programação em Python\n"
          ]
        }
      ],
      "source": [
        "# Escaping\n",
        "\n",
        "print(\"Estou estudando\\n\" + programacao_python) # \\n = nova linha"
      ]
    },
    {
      "cell_type": "code",
      "execution_count": 48,
      "metadata": {
        "id": "93Yn1Ghp2iJ6",
        "colab": {
          "base_uri": "https://localhost:8080/"
        },
        "outputId": "718c7b03-1f4f-4d46-91f0-f00a05e510e8"
      },
      "outputs": [
        {
          "output_type": "stream",
          "name": "stdout",
          "text": [
            "programação em python\n",
            "PROGRAMAÇÃO EM PYTHON\n",
            "Aula de python é \n",
            "Muito legal\n"
          ]
        }
      ],
      "source": [
        "# Maiúsculas e Minúsculas\n",
        "\n",
        "print(programacao_python.lower()) # todas minúsculas\n",
        "print(programacao_python.upper()) # todas maiúsculas\n",
        "\n",
        "tudo_minuscula = \"aula de python é \\n\"\n",
        "outra_linha = \"muito legal\"\n",
        "print(tudo_minuscula.capitalize()+outra_linha.capitalize()) # primeira letra maiúscula"
      ]
    },
    {
      "cell_type": "code",
      "execution_count": 49,
      "metadata": {
        "id": "CiSlIYXM2iPQ",
        "colab": {
          "base_uri": "https://localhost:8080/"
        },
        "outputId": "b28a6c92-cc3f-4c8d-b095-0fe5fee6a57c"
      },
      "outputs": [
        {
          "output_type": "stream",
          "name": "stdout",
          "text": [
            "Olá, meu nome é Belinha! Tenho 7 anos e 7 reais\n",
            "Olá, meu nome é Belinha! Tenho 7 anos e 7.584000 reais\n",
            "Olá, meu nome é Belinha! Tenho 7 anos e 7.58 reais\n"
          ]
        }
      ],
      "source": [
        "# Formatação\n",
        "\n",
        "nome = \"Belinha\"\n",
        "numero_inteiro = 7\n",
        "numero_decimal = 7.584\n",
        "\n",
        "print(\"Olá, meu nome é %s! Tenho %d anos e %d reais\" % (nome, numero_inteiro, numero_decimal)) # float impresso como int\n",
        "print(\"Olá, meu nome é %s! Tenho %d anos e %f reais\" % (nome, numero_inteiro, numero_decimal)) # float impresso como float\n",
        "print(\"Olá, meu nome é %s! Tenho %d anos e %.2f reais\" % (nome, numero_inteiro, numero_decimal)) # float impresso como float com 2 casas decimais"
      ]
    },
    {
      "cell_type": "markdown",
      "metadata": {
        "id": "FP8eDc063Tvr"
      },
      "source": [
        "## Coleções"
      ]
    },
    {
      "cell_type": "code",
      "execution_count": 66,
      "metadata": {
        "id": "TMVhEgzH3VHP",
        "colab": {
          "base_uri": "https://localhost:8080/"
        },
        "outputId": "cf0ae4c1-ee74-461b-e28b-f0f5b23bf50f"
      },
      "outputs": [
        {
          "output_type": "stream",
          "name": "stdout",
          "text": [
            "[0, 1, 20, 300, 4000]\n",
            "20\n"
          ]
        }
      ],
      "source": [
        "# Listas \n",
        "\n",
        "numeros = [0, 1, 20, 300, 4000]\n",
        "print(numeros)\n",
        "\n",
        "# imprimir o elemento de índice 2 - inicia no 0\n",
        "print(numeros[2])"
      ]
    },
    {
      "cell_type": "code",
      "source": [
        "# Operações de Listas\n",
        "\n",
        "\n",
        "# incluir 1 item na lista usando append\n",
        "numeros.append(5000000)\n",
        "print(numeros)\n",
        "\n",
        "# incluir 2 itens na lista usando +=\n",
        "numeros += [60000, 700000]\n",
        "print(numeros)\n",
        "\n",
        "# substituir os itens nas posições 1 e 2 por 7\n",
        "# [índice_incluído:índice_excluído]\n",
        "numeros[1:3] = [1,2]\n",
        "print(numeros)\n",
        "\n",
        "# remover os itens nas posições 1 e 2 da lista\n",
        "numeros[1:3] = []\n",
        "print(numeros)\n",
        "\n",
        "# tamanho da lista\n",
        "print(len(numeros))"
      ],
      "metadata": {
        "id": "0zEBeDXhEJrl",
        "colab": {
          "base_uri": "https://localhost:8080/"
        },
        "outputId": "91e771e7-3626-442d-caca-f81e7d254f98"
      },
      "execution_count": 67,
      "outputs": [
        {
          "output_type": "stream",
          "name": "stdout",
          "text": [
            "[0, 1, 20, 300, 4000, 5000000]\n",
            "[0, 1, 20, 300, 4000, 5000000, 60000, 700000]\n",
            "[0, 1, 2, 300, 4000, 5000000, 60000, 700000]\n",
            "[0, 300, 4000, 5000000, 60000, 700000]\n",
            "6\n"
          ]
        }
      ]
    },
    {
      "cell_type": "code",
      "execution_count": 72,
      "metadata": {
        "id": "-YQlCOCB3oQB",
        "colab": {
          "base_uri": "https://localhost:8080/"
        },
        "outputId": "602448d4-29b1-4496-cd8c-ec636dbc3715"
      },
      "outputs": [
        {
          "output_type": "stream",
          "name": "stdout",
          "text": [
            "('copas', 'ouros', 'espadas', 'paus')\n"
          ]
        }
      ],
      "source": [
        "# Tuplas\n",
        "\n",
        "naipes = ('copas', 'ouros', 'espadas', 'paus')\n",
        "print(naipes)\n"
      ]
    },
    {
      "cell_type": "code",
      "source": [
        "# Dicionários\n",
        "\n",
        "# criar e imprimir um dicionário\n",
        "notas = {\"Ana\": 8, \"Maria\": 5, \"Thais\": 10}\n",
        "print(notas)\n",
        "\n",
        "# acessar o valor correspondente à chave \"Thais\"\n",
        "print(notas[\"Thais\"])\n",
        "\n",
        "# incluir novo item\n",
        "notas[\"Zaira\"] = 9\n",
        "print(notas)\n",
        "\n",
        "# remover item\n",
        "del notas[\"Thais\"]\n",
        "print(notas)\n",
        "\n",
        "# checar se notas contém o item \"Maria\"\n",
        "print(\"Maria\" in notas)"
      ],
      "metadata": {
        "id": "Pr-1emMbE3Ej",
        "colab": {
          "base_uri": "https://localhost:8080/"
        },
        "outputId": "41971619-eaa4-4086-c6e9-63af10adf15b"
      },
      "execution_count": 73,
      "outputs": [
        {
          "output_type": "stream",
          "name": "stdout",
          "text": [
            "{'Ana': 8, 'Maria': 5, 'Thais': 10}\n",
            "10\n",
            "{'Ana': 8, 'Maria': 5, 'Thais': 10, 'Zaira': 9}\n",
            "{'Ana': 8, 'Maria': 5, 'Zaira': 9}\n",
            "True\n"
          ]
        }
      ]
    },
    {
      "cell_type": "markdown",
      "metadata": {
        "id": "FgvuadFJ44he"
      },
      "source": [
        "## Condições"
      ]
    },
    {
      "cell_type": "code",
      "execution_count": 79,
      "metadata": {
        "id": "zc7SmL9B5Rkk",
        "colab": {
          "base_uri": "https://localhost:8080/"
        },
        "outputId": "d9a05f87-eac4-4872-cb76-95f9af9f79a0"
      },
      "outputs": [
        {
          "output_type": "stream",
          "name": "stdout",
          "text": [
            "Passou!\n",
            "Passou de novo!\n",
            "Ana tem 25 anos\n"
          ]
        }
      ],
      "source": [
        "nome = \"Ana\"\n",
        "idade = 25\n",
        "\n",
        "# Comando if (condição se)\n",
        "\n",
        "if nome == \"Ana\": # V\n",
        "    print(\"Passou!\")\n",
        "\n",
        "if nome == \"Ana\" and idade > 17:   # V ou V = V\n",
        "    print(\"Passou de novo!\")\n",
        "    print(\"%s tem %d anos\" %(nome, idade))"
      ]
    },
    {
      "cell_type": "code",
      "source": [
        "# Comandos if, elif e else\n",
        "\n",
        "dias = [\"sábado\", \"domingo\",\"Segunda\"]\n",
        "if len(dias) == 0:\n",
        "    print(\"Lista vazia\")\n",
        "elif len(dias) == 1:\n",
        "    print(\"Só um dia\")\n",
        "elif len(dias) == 2:\n",
        "    print(\"Tem %d\"%len(dias) +\" dias\")\n",
        "else:\n",
        "    print(\"Tamanho %d\"%len(dias))"
      ],
      "metadata": {
        "id": "fAW1ZQ3ohzCM",
        "colab": {
          "base_uri": "https://localhost:8080/"
        },
        "outputId": "9f461c73-7d7c-4bde-a001-da54e460c426"
      },
      "execution_count": 94,
      "outputs": [
        {
          "output_type": "stream",
          "name": "stdout",
          "text": [
            "Tamanho 3\n"
          ]
        }
      ]
    },
    {
      "cell_type": "markdown",
      "metadata": {
        "id": "eVsm3csc5eN7"
      },
      "source": [
        "## Loops"
      ]
    },
    {
      "cell_type": "code",
      "execution_count": 105,
      "metadata": {
        "id": "Qu5LEeRb5uPf",
        "colab": {
          "base_uri": "https://localhost:8080/"
        },
        "outputId": "5f091a53-2835-43e4-caa7-16b56f75d3fd"
      },
      "outputs": [
        {
          "output_type": "stream",
          "name": "stdout",
          "text": [
            "3\n",
            "5\n",
            "7\n"
          ]
        }
      ],
      "source": [
        "# Loop for\n",
        "for i in range(3,9,2):\n",
        "    print(i)\n",
        "\n",
        "# OBS: A função range() pode ser representada de três formas diferentes:\n",
        "# range(stop_value) : Considera o ponto inicial como zero.\n",
        "# range(start_value, stop_value) : Gera a sequência com base no valor inicial e final.\n",
        "# range(start_value, stop_value, step_size): Gera a sequência incrementando o valor inicial usando o tamanho do passo até atingir o valor final."
      ]
    },
    {
      "cell_type": "code",
      "source": [
        "# Loop for - outro exemplo\n",
        "pares = [2, 4, 6, 8]\n",
        "for i in range(len(pares)):\n",
        "    print(\"Índice %d - Valor %d \" % (i, pares[i]))"
      ],
      "metadata": {
        "id": "ehCk__XdiQCH",
        "colab": {
          "base_uri": "https://localhost:8080/"
        },
        "outputId": "630eea4f-346d-4bfe-f29a-2c75386a33b5"
      },
      "execution_count": 96,
      "outputs": [
        {
          "output_type": "stream",
          "name": "stdout",
          "text": [
            "Índice 0 - Valor 2 \n",
            "Índice 1 - Valor 4 \n",
            "Índice 2 - Valor 6 \n",
            "Índice 3 - Valor 8 \n"
          ]
        }
      ]
    },
    {
      "cell_type": "code",
      "execution_count": 97,
      "metadata": {
        "id": "VcECdMpc6DHB",
        "colab": {
          "base_uri": "https://localhost:8080/"
        },
        "outputId": "dc7a117b-0d6f-4b35-b263-d1c8202dbc98"
      },
      "outputs": [
        {
          "output_type": "stream",
          "name": "stdout",
          "text": [
            "H\n",
            "e\n",
            "l\n",
            "l\n",
            "o\n",
            ",\n",
            " \n",
            "W\n",
            "o\n",
            "r\n",
            "l\n",
            "d\n",
            "!\n",
            "Número de caracteres: 13 \n"
          ]
        }
      ],
      "source": [
        "# Loop for usando string\n",
        "\n",
        "hello_world = \"Hello, World!\"\n",
        "\n",
        "# imprimir cada caracter\n",
        "for ch in hello_world:\n",
        "    print(ch)\n",
        "\n",
        "# contar a quantidade de caracteres usando loop\n",
        "length = 0\n",
        "for ch in hello_world:\n",
        "    length += 1\n",
        "print(\"Número de caracteres: %d \" % length)\n"
      ]
    },
    {
      "cell_type": "code",
      "execution_count": 106,
      "metadata": {
        "id": "Y-0HBHCN6DT8",
        "colab": {
          "base_uri": "https://localhost:8080/"
        },
        "outputId": "ed49fda5-b63a-4281-b9c0-2cc4a22c16bb"
      },
      "outputs": [
        {
          "output_type": "stream",
          "name": "stdout",
          "text": [
            "1\n",
            "2\n",
            "3\n",
            "4\n",
            "5\n",
            "6\n",
            "7\n"
          ]
        }
      ],
      "source": [
        "# Loop While\n",
        "numero = 1\n",
        "\n",
        "# imprimir de 1 a 7\n",
        "while numero <= 7:\n",
        "    print(numero)\n",
        "    numero += 1"
      ]
    },
    {
      "cell_type": "code",
      "source": [
        "# imprimir os quadrados menores que 25\n",
        "numero = 1\n",
        "quadrado = 1\n",
        "\n",
        "while quadrado <= 24:\n",
        "    quadrado = numero ** 2\n",
        "    print(\"Número %d - Quadrado %d\" % (numero, quadrado))\n",
        "    numero += 1\n",
        "\n",
        "print(\"Ao sair do while, numero tem o valor %d\" % numero)"
      ],
      "metadata": {
        "id": "oX4Fe0dzjVC7",
        "colab": {
          "base_uri": "https://localhost:8080/"
        },
        "outputId": "4356b43e-9198-42f5-8c16-db647ce2349c"
      },
      "execution_count": 107,
      "outputs": [
        {
          "output_type": "stream",
          "name": "stdout",
          "text": [
            "Número 1 - Quadrado 1\n",
            "Número 2 - Quadrado 4\n",
            "Número 3 - Quadrado 9\n",
            "Número 4 - Quadrado 16\n",
            "Número 5 - Quadrado 25\n",
            "Ao sair do while, numero tem o valor 6\n"
          ]
        }
      ]
    },
    {
      "cell_type": "code",
      "execution_count": 108,
      "metadata": {
        "id": "iXJbCABu6DQi",
        "colab": {
          "base_uri": "https://localhost:8080/"
        },
        "outputId": "57ad5539-5df7-48d7-8b9c-f87bf52fc444"
      },
      "outputs": [
        {
          "output_type": "stream",
          "name": "stdout",
          "text": [
            "0\n",
            "1\n",
            "2\n",
            "3\n",
            "4\n"
          ]
        }
      ],
      "source": [
        "# Break\n",
        "\n",
        "count = 0\n",
        "\n",
        "# loop infinito - nunca é False\n",
        "while True:\n",
        "    print(count)\n",
        "    count += 1\n",
        "    if count >= 5:\n",
        "      break # sai do loop"
      ]
    },
    {
      "cell_type": "code",
      "source": [
        "naipes = ['copas', 'ouros', 'espadas', 'paus']\n",
        "\n",
        "# loop infinito - nunca é False\n",
        "while True:\n",
        "    # pop(): retira e retorna o último item da lista\n",
        "    elemento = naipes.pop()\n",
        "    print(elemento)\n",
        "    if elemento == \"espadas\":\n",
        "        break"
      ],
      "metadata": {
        "id": "z96WNoEIkG25",
        "colab": {
          "base_uri": "https://localhost:8080/"
        },
        "outputId": "6043b51b-decb-4990-f586-8f14183fc0b0"
      },
      "execution_count": 109,
      "outputs": [
        {
          "output_type": "stream",
          "name": "stdout",
          "text": [
            "paus\n",
            "espadas\n"
          ]
        }
      ]
    },
    {
      "cell_type": "code",
      "execution_count": 110,
      "metadata": {
        "id": "bgQMCSeh6DEZ",
        "colab": {
          "base_uri": "https://localhost:8080/"
        },
        "outputId": "ffe087c3-b667-4711-bd3e-3324b78cd1a9"
      },
      "outputs": [
        {
          "output_type": "stream",
          "name": "stdout",
          "text": [
            "0\n",
            "1\n",
            "2\n",
            "4\n"
          ]
        }
      ],
      "source": [
        "# Continue\n",
        "\n",
        "for i in range(5):\n",
        "    if i == 3:       \n",
        "       continue # pula o resto do código e move para a próxima iteração do loop\n",
        "    print(i)"
      ]
    },
    {
      "cell_type": "code",
      "source": [
        "# imprimir somente os ímpares\n",
        "for x in range(10):\n",
        "    if (x % 2) == 0: # é par\n",
        "        # pula print(x) para este loop\n",
        "        continue\n",
        "    print(\"Número %d\" % x)"
      ],
      "metadata": {
        "id": "WE_0UsURkjqc",
        "colab": {
          "base_uri": "https://localhost:8080/"
        },
        "outputId": "0532c52b-93e0-44fe-d023-15b1085245d4"
      },
      "execution_count": 111,
      "outputs": [
        {
          "output_type": "stream",
          "name": "stdout",
          "text": [
            "Número 1\n",
            "Número 3\n",
            "Número 5\n",
            "Número 7\n",
            "Número 9\n"
          ]
        }
      ]
    },
    {
      "cell_type": "markdown",
      "metadata": {
        "id": "MSdvc_x67Ji-"
      },
      "source": [
        "## Funções"
      ]
    },
    {
      "cell_type": "code",
      "execution_count": 112,
      "metadata": {
        "id": "s90NU2mX7Krn",
        "colab": {
          "base_uri": "https://localhost:8080/"
        },
        "outputId": "671b0f24-f3cf-47ad-a952-1a30c6b33ba3"
      },
      "outputs": [
        {
          "output_type": "stream",
          "name": "stdout",
          "text": [
            "Hello, World!\n",
            "Oi, Mundo!\n",
            "Salut, Monde!\n",
            "Hola, Mundo!\n",
            "Hello, World!\n",
            "Oi, Mundo!\n",
            "Salut, Monde!\n",
            "Hola, Mundo!\n",
            "Hello, World!\n",
            "Oi, Mundo!\n",
            "Salut, Monde!\n",
            "Hola, Mundo!\n"
          ]
        }
      ],
      "source": [
        "# Funções\n",
        "\n",
        "# definir uma função chamada hello_world\n",
        "def hello_world():\n",
        "    print(\"Hello, World!\")\n",
        "    print(\"Oi, Mundo!\")\n",
        "    print(\"Salut, Monde!\")\n",
        "    print(\"Hola, Mundo!\")\n",
        "\n",
        "# chamar a função 3 vezes\n",
        "for i in range(3):\n",
        "    hello_world()"
      ]
    },
    {
      "cell_type": "code",
      "execution_count": 118,
      "metadata": {
        "id": "2V0gj8WR7sqw",
        "colab": {
          "base_uri": "https://localhost:8080/"
        },
        "outputId": "f14c5ce6-e3fa-4717-a722-d8b20a2b85a2"
      },
      "outputs": [
        {
          "output_type": "stream",
          "name": "stdout",
          "text": [
            "x = 5\n",
            "Fim da função\n"
          ]
        }
      ],
      "source": [
        "# Funções com parâmetros\n",
        "\n",
        "# x é um parâmetro\n",
        "def uma_funcao(x):\n",
        "    print(\"x = %d\" % x)\n",
        "    print('Fim da função')\n",
        "\n",
        "# passar 5 para a função. Aqui, 5 é um argumento passado para a função\n",
        "uma_funcao(5)"
      ]
    },
    {
      "cell_type": "code",
      "execution_count": 120,
      "metadata": {
        "id": "3mKcdhL17sv_",
        "colab": {
          "base_uri": "https://localhost:8080/"
        },
        "outputId": "c80c70d2-1a8d-4c09-a6ff-e651a0ff1b3c"
      },
      "outputs": [
        {
          "output_type": "stream",
          "name": "stdout",
          "text": [
            "c = 12\n",
            "c = 30\n"
          ]
        }
      ],
      "source": [
        "# Funções com retorno\n",
        "\n",
        "# função que retorna a soma de dois números\n",
        "def soma(a, b):\n",
        "    return a + b\n",
        "\n",
        "c = soma(7, 5)\n",
        "print(\"c = %d\" % c)\n",
        "\n",
        "print(\"c = %d\" % soma(10,20))"
      ]
    },
    {
      "cell_type": "code",
      "execution_count": 121,
      "metadata": {
        "id": "UEMy-AyA7s1I",
        "colab": {
          "base_uri": "https://localhost:8080/"
        },
        "outputId": "8a7652dd-6ed6-4080-ad24-07a1ec317bd7"
      },
      "outputs": [
        {
          "output_type": "stream",
          "name": "stdout",
          "text": [
            "420\n",
            "14\n"
          ]
        }
      ],
      "source": [
        "# Função com parâmetros default (padrão)\n",
        "\n",
        "def multiplica(a, b=2):\n",
        "    return a * b\n",
        "\n",
        "print(multiplica(5, 84))\n",
        "\n",
        "# como b tem um valor padrão, podemos passar apenas um argumento\n",
        "print(multiplica(7))"
      ]
    }
  ],
  "metadata": {
    "colab": {
      "provenance": [],
      "toc_visible": true,
      "collapsed_sections": [
        "HPGhHXNF1wHL",
        "ZFQcPUw-1yBK",
        "BTEQ7Jkg1oHS",
        "FP8eDc063Tvr",
        "FgvuadFJ44he",
        "eVsm3csc5eN7"
      ],
      "include_colab_link": true
    },
    "kernelspec": {
      "display_name": "Python 3",
      "name": "python3"
    }
  },
  "nbformat": 4,
  "nbformat_minor": 0
}