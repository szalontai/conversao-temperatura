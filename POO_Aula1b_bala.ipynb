{
  "nbformat": 4,
  "nbformat_minor": 0,
  "metadata": {
    "colab": {
      "provenance": [],
      "collapsed_sections": [
        "qjFruHglEK_N"
      ],
      "toc_visible": true,
      "include_colab_link": true
    },
    "kernelspec": {
      "name": "python3",
      "display_name": "Python 3"
    },
    "language_info": {
      "name": "python"
    }
  },
  "cells": [
    {
      "cell_type": "markdown",
      "metadata": {
        "id": "view-in-github",
        "colab_type": "text"
      },
      "source": [
        "<a href=\"https://colab.research.google.com/github/szalontai/conversao-temperatura/blob/aulas/POO_Aula1b_bala.ipynb\" target=\"_parent\"><img src=\"https://colab.research.google.com/assets/colab-badge.svg\" alt=\"Open In Colab\"/></a>"
      ]
    },
    {
      "cell_type": "markdown",
      "source": [
        "# Programação Orientada a Objetos - Prof. Tatiana Escovedo\n",
        "\n",
        "---\n",
        "\n",
        "## Aula 01: Introdução a Python e Orientação a Objetos\n",
        "\n",
        "### Prática 2: Criando os primeiros programas em Python"
      ],
      "metadata": {
        "id": "YyHaoGYI7HLd"
      }
    },
    {
      "cell_type": "markdown",
      "source": [
        "### Programa 1: Quem é você?"
      ],
      "metadata": {
        "id": "eqfG4oLBEDAH"
      }
    },
    {
      "cell_type": "code",
      "source": [
        "nome = input(\"Como posso te chamar?\") # mensagem a ser exibida na tela\n",
        "print(\"Olá,\", nome) # imprime \"Olá\" concatenado com o nome inserido pelo usuário"
      ],
      "metadata": {
        "id": "21y4PN9QCSZW",
        "colab": {
          "base_uri": "https://localhost:8080/"
        },
        "outputId": "d69e576f-489a-4f47-f588-864e4b6bb064"
      },
      "execution_count": 1,
      "outputs": [
        {
          "output_type": "stream",
          "name": "stdout",
          "text": [
            "Como posso te chamar?Bala\n",
            "Olá, Bala\n"
          ]
        }
      ]
    },
    {
      "cell_type": "code",
      "source": [
        "nome = input(\"Qual o seu nome? \")\n",
        "print(\"Olá, %s\" % nome+\" Tudo bem ?\")\n",
        "print(\"O seu nome tem %d caracteres\" %len(nome) )\n"
      ],
      "metadata": {
        "colab": {
          "base_uri": "https://localhost:8080/"
        },
        "id": "cCb7t_E6AJTO",
        "outputId": "d5370142-9115-4f72-8e60-42c7168d262e"
      },
      "execution_count": 7,
      "outputs": [
        {
          "output_type": "stream",
          "name": "stdout",
          "text": [
            "Qual o seu nome? BAla\n",
            "Olá, BAla Tudo bem ?\n",
            "O seu nome tem 4 caracteres\n"
          ]
        }
      ]
    },
    {
      "cell_type": "markdown",
      "source": [
        "### Programa 2: Aluno aprovado?"
      ],
      "metadata": {
        "id": "CSHUzHOzFZ9R"
      }
    },
    {
      "cell_type": "code",
      "source": [
        "print(\"**************************************\")\n",
        "print(\"O aluno foi aprovado?\")\n",
        "print(\"**************************************\")\n",
        "\n",
        "nota_1 = float(input(\"Nota 1: \"))\n",
        "nota_2 = float(input(\"Nota 2: \"))\n",
        "nota_3 = float(input(\"Nota 3: \"))\n",
        "\n",
        "media = (nota_1 + nota_2 + nota_3)/3 # calcula a média\n",
        "\n",
        "if media >= 7:\n",
        "    print(\"O aluno foi APROVADO! Sua média foi %.2f\" % media)\n",
        "elif media < 3:\n",
        "    print(\"O aluno foi REPROVADO! Sua média foi %.2f\" % media)\n",
        "else:\n",
        "    print(\"O aluno ficou em PROVA FINAL! Sua média foi %.2f\" % media)"
      ],
      "metadata": {
        "colab": {
          "base_uri": "https://localhost:8080/"
        },
        "id": "EqYLV7ZbFaEA",
        "outputId": "011776a0-8fe4-4d36-b5f0-7ab1e17c9a65"
      },
      "execution_count": 8,
      "outputs": [
        {
          "output_type": "stream",
          "name": "stdout",
          "text": [
            "**************************************\n",
            "O aluno foi aprovado?\n",
            "**************************************\n",
            "Nota 1: 7\n",
            "Nota 2: 3\n",
            "Nota 3: 9\n",
            "O aluno ficou em PROVA FINAL! Sua média foi 6.33\n"
          ]
        }
      ]
    },
    {
      "cell_type": "markdown",
      "source": [
        "### Programa 3: Calculadora simples em Python"
      ],
      "metadata": {
        "id": "qjFruHglEK_N"
      }
    },
    {
      "cell_type": "code",
      "source": [
        "def bem_vindo():\n",
        "    print(\"**************************************\")\n",
        "    print(\"Calculadora simples em Python\")\n",
        "    print(\"**************************************\")\n",
        "    calcular()\n",
        "\n",
        "def calcular():\n",
        "\n",
        "    print(\"\\nQual operação deseja executar? (1) Soma (2) Subtração (3) Multiplicação (4) Divisão (5) Outra\")\n",
        "    operacao = int(input(\"Digite a operação a ser realizada: \"))\n",
        "\n",
        "    if(operacao == 5 ):\n",
        "        print(\"Desculpe, esta calculadora ainda não suporta outras operações. Por favor, execute o programa novamente.\")\n",
        "        return\n",
        "\n",
        "\n",
        "# if(operacao != 1 and operacao != 2 and operacao != 3 and operacao != 4 ):\n",
        "#        print(\"Desculpe, esta calculadora ainda não suporta outras operações. Por favor, execute o programa novamente.\")\n",
        "#        return\n",
        "\n",
        "    operacoes = {1:\"Soma\", 2:\"Subtração\",3: \"Multiplicação\",4: \"Divisão\"}\n",
        "\n",
        "    print(\"**************************************\")\n",
        "    print(\"Calculadora de \"+operacoes[operacao])\n",
        "    print(\"**************************************\")\n",
        "\n",
        "    primeiro_numero = int(input(\"Digite o primeiro número: \"))\n",
        "    segundo_numero = int(input(\"Digite o segundo número: \"))\n",
        "\n",
        "    if(operacao == 1):\n",
        "        print(\"O resultado é\", primeiro_numero + segundo_numero)\n",
        "    elif(operacao == 2):\n",
        "        print(\"O resultado é\", primeiro_numero - segundo_numero)\n",
        "    elif(operacao == 3):\n",
        "        print(\"O resultado é\", primeiro_numero * segundo_numero)\n",
        "    else:\n",
        "        print(\"O resultado é\", primeiro_numero / segundo_numero)\n",
        "\n",
        "    calcular_outra_vez()\n",
        "\n",
        "\n",
        "def calcular_outra_vez():\n",
        "    outra_vez = input(\"Deseja realizar outra operação? Por favor, digite S para SIM ou N para NÃO: \")\n",
        "\n",
        "    if outra_vez.upper() == 'S':\n",
        "        calcular()\n",
        "    elif outra_vez.upper() == 'N':\n",
        "        print('Até a próxima!')\n",
        "    else:\n",
        "        print(\"Opção inválida.\")\n",
        "        calcular_outra_vez()"
      ],
      "metadata": {
        "id": "5NH5LnV181pr"
      },
      "execution_count": 18,
      "outputs": []
    },
    {
      "cell_type": "code",
      "source": [
        "bem_vindo()\n"
      ],
      "metadata": {
        "colab": {
          "base_uri": "https://localhost:8080/"
        },
        "id": "3CNVDcSVClpq",
        "outputId": "3abc1cf3-5caf-45cc-ca66-58d8022cb189"
      },
      "execution_count": 19,
      "outputs": [
        {
          "output_type": "stream",
          "name": "stdout",
          "text": [
            "**************************************\n",
            "Calculadora simples em Python\n",
            "**************************************\n",
            "\n",
            "Qual operação deseja executar? (1) Soma (2) Subtração (3) Multiplicação (4) Divisão (5) Outra\n",
            "Digite a operação a ser realizada: 3\n",
            "**************************************\n",
            "Calculadora de Multiplicação\n",
            "**************************************\n",
            "Digite o primeiro número: 2\n",
            "Digite o segundo número: 3\n",
            "O resultado é 6\n",
            "Deseja realizar outra operação? Por favor, digite S para SIM ou N para NÃO: n\n",
            "Até a próxima!\n"
          ]
        }
      ]
    }
  ]
}